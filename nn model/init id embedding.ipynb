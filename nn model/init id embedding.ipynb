{
 "cells": [
  {
   "cell_type": "code",
   "execution_count": null,
   "id": "e41ec64f-df4d-4ddb-a837-83e20d67eea2",
   "metadata": {},
   "outputs": [],
   "source": [
    "import torch\n",
    "a = torch.load('../data/title_embeddings_128.dataset')"
   ]
  },
  {
   "cell_type": "code",
   "execution_count": null,
   "id": "85d90aad",
   "metadata": {},
   "outputs": [],
   "source": [
    "weight = torch.nn.Embedding(1410675+1,128)"
   ]
  },
  {
   "cell_type": "code",
   "execution_count": 10,
   "id": "7d05a8f5-6fa2-49b5-b8e8-8f8d4a143a24",
   "metadata": {},
   "outputs": [],
   "source": [
    "import pandas as pd\n",
    "import pickle\n",
    "from math import sqrt\n",
    "from tqdm import tqdm\n",
    "pro_df = pd.read_csv(\"../data/products_train.csv\", sep=',')\n",
    "product_asin2id = pickle.load(open('../data/product_asin2id.pkl', 'rb'))\n",
    "locale2ids = pickle.load(open('../data/local2ids.pkl', 'rb'))\n",
    "item = pro_df['id']\n",
    "item = [product_asin2id[x] for x in item]\n",
    "pro_df['item'] = item"
   ]
  },
  {
   "cell_type": "code",
   "execution_count": 17,
   "id": "fd8f5469-abf3-40e1-adbd-ac02abaab04f",
   "metadata": {},
   "outputs": [
    {
     "name": "stderr",
     "output_type": "stream",
     "text": [
      "100%|██████████| 1551057/1551057 [01:14<00:00, 20818.39it/s]\n"
     ]
    }
   ],
   "source": [
    "from collections import Counter\n",
    "check = Counter()\n",
    "for i in tqdm(range(len(item))):\n",
    "    if a[i].sum() == 0:\n",
    "        continue\n",
    "    if check[item[i]] == 0 :\n",
    "        weight.weight.data[item[i],:] = a[i,:]\n",
    "    else:\n",
    "        weight.weight.data[item[i],:] = (a[i,:] + weight.weight.data[item[i],:]*check[item[i]])/ (check[item[i]]+1)\n",
    "    check[item[i]]+=1\n"
   ]
  },
  {
   "cell_type": "code",
   "execution_count": 18,
   "id": "4a738932-c04e-4f4e-b45d-c1b8f2cad082",
   "metadata": {},
   "outputs": [],
   "source": [
    "torch.save(weight,'embedding.pth')"
   ]
  }
 ],
 "metadata": {
  "kernelspec": {
   "display_name": "Python 3 (ipykernel)",
   "language": "python",
   "name": "python3"
  },
  "language_info": {
   "codemirror_mode": {
    "name": "ipython",
    "version": 3
   },
   "file_extension": ".py",
   "mimetype": "text/x-python",
   "name": "python",
   "nbconvert_exporter": "python",
   "pygments_lexer": "ipython3",
   "version": "3.7.16"
  }
 },
 "nbformat": 4,
 "nbformat_minor": 5
}
