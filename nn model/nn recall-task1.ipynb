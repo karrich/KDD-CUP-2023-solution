{
 "cells": [
  {
   "cell_type": "code",
   "execution_count": 1,
   "id": "e0149767-46fc-4efa-a77b-db47f9927c31",
   "metadata": {},
   "outputs": [],
   "source": [
    "import numpy as np\n",
    "import torch\n",
    "import torch.nn as nn\n",
    "import torch.nn.functional as F\n",
    "import os\n",
    "import pickle\n",
    "import argparse\n",
    "import numpy as np\n",
    "import pandas as pd\n",
    "from tqdm import tqdm\n",
    "import torch\n",
    "import torch.nn as nn\n",
    "import torch.nn.functional as F\n",
    "from collections import defaultdict, Counter\n",
    "from torch.cuda.amp import autocast, GradScaler\n",
    "from torch.optim import *\n",
    "from torch.utils.data import Dataset, DataLoader\n",
    "from sklearn.model_selection import train_test_split\n",
    "os.environ[\"CUDA_VISIBLE_DEVICES\"] = str(2)"
   ]
  },
  {
   "attachments": {},
   "cell_type": "markdown",
   "id": "8c735be0-606e-4084-95ee-d2d319c08785",
   "metadata": {
    "tags": []
   },
   "source": [
    "# model"
   ]
  },
  {
   "cell_type": "code",
   "execution_count": 3,
   "id": "92a64eab-11b6-4ad6-9c9c-1a4af935463f",
   "metadata": {},
   "outputs": [],
   "source": [
    "class WeightSeq(torch.nn.Module):\n",
    "    def __init__(self, path=None):\n",
    "        super(WeightSeq, self).__init__()\n",
    "\n",
    "        self.item_num = 1410676\n",
    "        self.seq_len = 0\n",
    "        self.item_emb = torch.nn.Embedding(1410676, 128, padding_idx=0)\n",
    "        self.emb_dropout = torch.nn.Dropout(p=0.0)\n",
    "        self.max_ = None\n",
    "        self.seq_len = 2\n",
    "        self.mlp = nn.Sequential(\n",
    "                torch.nn.Linear(128*4, 128*4),\n",
    "                torch.nn.GELU(),\n",
    "                torch.nn.Linear(128*4, 128)\n",
    "            )\n",
    "        self.reset_para()\n",
    "        if path is not None:\n",
    "            self.item_emb = torch.load(path)\n",
    "\n",
    "\n",
    "    def seq_embed(self, input_ids, all_ids =None, index=None, seq_len=2):\n",
    "        input_embed = self.emb_dropout(self.item_emb(input_ids)) \n",
    "        a = input_embed[:,:-4,:]\n",
    "        mask = input_ids.clone()[:,:-4]\n",
    "        mask[mask!=0] = 1\n",
    "        a = (a*mask.unsqueeze(-1)).sum(dim=-2)\n",
    "        mask = mask.sum(dim=-1).unsqueeze(-1)\n",
    "        mask_t = mask.clone()\n",
    "        mask_t[mask_t==0]=1\n",
    "        a = a/mask_t\n",
    "        mask[mask==0]=-1\n",
    "        mask[mask>0]=0\n",
    "        mask[mask==-1]=1\n",
    "        add = self.emb_dropout(self.item_emb(torch.tensor([0]).cuda())).repeat(input_ids.shape[0],1)\n",
    "        add = add *mask\n",
    "        a = a+add\n",
    "        \n",
    "        b = input_embed[:,-4:-2,:]\n",
    "        mask = input_ids.clone()[:,-4:-2]\n",
    "        mask[mask!=0] = 1\n",
    "        b = (b*mask.unsqueeze(-1)).sum(dim=-2)\n",
    "        mask = mask.sum(dim=-1).unsqueeze(-1)\n",
    "        mask_t = mask.clone()\n",
    "        mask_t[mask_t==0]=1\n",
    "        b = b/mask_t\n",
    "        mask[mask==0]=-1\n",
    "        mask[mask>0]=0\n",
    "        mask[mask==-1]=1\n",
    "        add = self.emb_dropout(self.item_emb(torch.tensor([0]).cuda())).repeat(input_ids.shape[0],1)\n",
    "        add = add *mask\n",
    "        b = b+add\n",
    "        \n",
    "        c = input_embed[:,-2,:]\n",
    "\n",
    "        d = input_embed[:,-1,:]\n",
    "        \n",
    "        input_embed = self.mlp(torch.cat([a,b,c,d],dim=-1))\n",
    "        input_embed = F.normalize(input_embed, p=2, dim=1)\n",
    "        return input_embed\n",
    "    \n",
    "    def recall_embed(self, recall_ids):\n",
    "        item_embed = self.emb_dropout(self.item_emb(recall_ids))\n",
    "        item_embed = F.normalize(item_embed, p=2, dim=1)\n",
    "        return item_embed\n",
    "    \n",
    "    def forward(self,\n",
    "                input_ids,\n",
    "                recall_items,\n",
    "                all_ids = None,\n",
    "                index = None,\n",
    "                number = 0,\n",
    "               ):\n",
    "        input_embed = self.seq_embed(input_ids, all_ids, index, self.seq_len)\n",
    "        item_embed = self.recall_embed(recall_items)\n",
    "        \n",
    "        logits = input_embed.mm(item_embed.T)\n",
    "        \n",
    "        return logits\n",
    "\n",
    "    def reset_para(self):\n",
    "        for p in self.parameters():\n",
    "            if p.dim() > 1:\n",
    "                nn.init.xavier_uniform_(p)\n",
    "        nn.init.normal_(self.item_emb.weight, std=0.01)"
   ]
  },
  {
   "attachments": {},
   "cell_type": "markdown",
   "id": "a5b49db8-78ff-48ad-ab13-f33730b56e25",
   "metadata": {
    "tags": []
   },
   "source": [
    "# load model"
   ]
  },
  {
   "cell_type": "code",
   "execution_count": 4,
   "id": "cd896cb7-56d7-4f6d-a622-288a612121ff",
   "metadata": {},
   "outputs": [
    {
     "data": {
      "text/plain": [
       "WeightSeq(\n",
       "  (item_emb): Embedding(1410676, 128, padding_idx=0)\n",
       "  (emb_dropout): Dropout(p=0.0, inplace=False)\n",
       "  (mlp): Sequential(\n",
       "    (0): Linear(in_features=512, out_features=512, bias=True)\n",
       "    (1): GELU(approximate='none')\n",
       "    (2): Linear(in_features=512, out_features=128, bias=True)\n",
       "  )\n",
       ")"
      ]
     },
     "execution_count": 4,
     "metadata": {},
     "output_type": "execute_result"
    }
   ],
   "source": [
    "model = WeightSeq().cuda()\n",
    "model.load_state_dict(torch.load('ckpt/task1-weight_embd2.pt'))\n",
    "model.eval()"
   ]
  },
  {
   "attachments": {},
   "cell_type": "markdown",
   "id": "ad8fa749",
   "metadata": {},
   "source": [
    "# only recall by mlp"
   ]
  },
  {
   "cell_type": "code",
   "execution_count": 5,
   "id": "63b70187-cb81-4d6d-bf10-4b9dcbf0a1b7",
   "metadata": {},
   "outputs": [
    {
     "name": "stderr",
     "output_type": "stream",
     "text": [
      "100%|██████████| 325635/325635 [2:24:29<00:00, 37.56it/s]  \n"
     ]
    }
   ],
   "source": [
    "for name in ['train']:\n",
    "    if name == 'test':\n",
    "        data = pd.read_pickle('../data/test_data_p2.dataset')\n",
    "    elif name == 'train':\n",
    "        data = pd.read_pickle('../data/train_data_005.dataset')[::10]\n",
    "    elif name == 'valid':\n",
    "        data = pd.read_pickle('../data/valid_data_005.dataset')\n",
    "\n",
    "    session = data['session'].tolist()\n",
    "    locale = data['locale'].tolist()\n",
    "    locale2ids = pickle.load(open('../data/local2ids.pkl', 'rb'))\n",
    "\n",
    "    recall_items = torch.tensor(locale2ids[locale[0]]).cuda()\n",
    "    recall2 = []\n",
    "    recall2_logits = []\n",
    "    for i in tqdm(range(len(session))):\n",
    "        if i !=0 and locale[i] != locale[i-1]:\n",
    "            recall_items = torch.tensor(locale2ids[locale[i]]).cuda()\n",
    "        row = session[i]\n",
    "        if name != 'test':\n",
    "            label = row[-1]\n",
    "            row = row[:-1]\n",
    "        row = [0,0,0,0,0] + list(dict.fromkeys(row[::-1]))[::-1]\n",
    "        input_ids = torch.tensor([row]).cuda()\n",
    "        with torch.no_grad():\n",
    "            with autocast():\n",
    "                pred = model(input_ids, recall_items)[0]\n",
    "        idx = pred.topk(500).indices\n",
    "        pred_items_ids = recall_items[idx.cpu().numpy()].tolist()\n",
    "        logits = pred[idx].tolist()\n",
    "        recall2.append(pred_items_ids)\n",
    "        recall2_logits.append(logits)\n",
    "    recall2_data = pd.DataFrame({'next_item_prediction':recall2,'nn_logits':recall2_logits})\n",
    "    recall2_data.to_pickle('../data/recall2_'+name+'_200.dataset')"
   ]
  },
  {
   "attachments": {},
   "cell_type": "markdown",
   "id": "5bc01785",
   "metadata": {},
   "source": [
    "# rule recall + mlp recall"
   ]
  },
  {
   "cell_type": "code",
   "execution_count": 6,
   "id": "e9701bb8-4909-4b40-a4e9-236fd941b2b7",
   "metadata": {},
   "outputs": [
    {
     "name": "stderr",
     "output_type": "stream",
     "text": [
      "100%|██████████| 325635/325635 [17:37<00:00, 308.02it/s]\n",
      "100%|██████████| 325635/325635 [04:58<00:00, 1092.17it/s]\n"
     ]
    }
   ],
   "source": [
    "for name in ['train']:\n",
    "    if name == 'test':\n",
    "        data = pd.read_pickle('../data/test_data_p2.dataset')\n",
    "        recall_data = pd.read_pickle('../data/recall1_test_200_p2.dataset')\n",
    "    elif name == 'train':\n",
    "        data = pd.read_pickle('../data/train_data_005.dataset')[::10]\n",
    "        recall_data = pd.read_pickle('../data/recall1_train_200_p2.dataset')\n",
    "    elif name == 'valid':\n",
    "        data = pd.read_pickle('../data/valid_data_005.dataset')\n",
    "        recall_data = pd.read_pickle('../data/recall1_valid_200_p22.dataset')\n",
    "    session = data['session'].tolist()\n",
    "    locale = data['locale'].tolist()\n",
    "    recall1 = recall_data['next_item_prediction']\n",
    "    locale2ids = pickle.load(open('../data/local2ids.pkl', 'rb'))\n",
    "    \n",
    "    recall1_logits = []\n",
    "    for i in tqdm(range(len(session))):\n",
    "        recall_items = torch.tensor(recall1[i]).cuda()\n",
    "        if recall_items.shape[0] == 0:\n",
    "            recall1_logits.append([])\n",
    "            continue\n",
    "        row = session[i]\n",
    "        if name != 'test':\n",
    "            label = row[-1]\n",
    "            row = row[:-1]\n",
    "        row = [0,0,0,0,0] + list(dict.fromkeys(row[::-1]))[::-1]\n",
    "        input_ids = torch.tensor([row]).cuda()\n",
    "        with torch.no_grad():\n",
    "            with autocast():\n",
    "                pred = model(input_ids, recall_items)[0].tolist()\n",
    "        recall1_logits.append(pred)\n",
    "    \n",
    "    recall2_data = pd.read_pickle('../data/recall2_'+name+'_200.dataset')\n",
    "    recall2 = recall2_data['next_item_prediction'].tolist()\n",
    "    recall2_logits = recall2_data['nn_logits'].tolist()\n",
    "    real_recall = []\n",
    "    real_logits = []\n",
    "    rank = []\n",
    "    for i in tqdm(range(len(recall2))):\n",
    "        recall_temp = recall1[i][:200]\n",
    "        logits_temp = recall1_logits[i][:200]\n",
    "        rank_temp = list(range(len(logits_temp)))\n",
    "        row = session[i]\n",
    "        if name != 'test':\n",
    "            row = row[:-1]\n",
    "        for j in range(len(recall2[i])):\n",
    "            if len(rank_temp)==250:\n",
    "                break\n",
    "            if recall2[i][j] in recall_temp:\n",
    "                continue\n",
    "            if recall2[i][j] in row:\n",
    "                continue\n",
    "            recall_temp.append(recall2[i][j])\n",
    "            logits_temp.append(recall2_logits[i][j])\n",
    "            if recall2[i][j] in recall1[i]:\n",
    "                rank_temp.append(recall1[i].index(recall2[i][j]))\n",
    "            else:\n",
    "                rank_temp.append(-1)\n",
    "        real_recall.append(recall_temp)\n",
    "        real_logits.append(logits_temp)\n",
    "        rank.append(rank_temp)\n",
    "    df = pd.DataFrame({'next_item_prediction':real_recall,'nn_logits':real_logits,'rank':rank})\n",
    "    df.to_pickle('../xgb-task1/recall_'+name+'_250_with_nn_p2.dataset')"
   ]
  },
  {
   "attachments": {},
   "cell_type": "markdown",
   "id": "27fabb3a-a589-4ac6-86ed-9b5a14bda3b1",
   "metadata": {
    "jp-MarkdownHeadingCollapsed": true,
    "tags": []
   },
   "source": [
    "# only updata nn logits"
   ]
  },
  {
   "cell_type": "code",
   "execution_count": 9,
   "id": "ce33c674-b4df-4480-96bf-e4726e688851",
   "metadata": {},
   "outputs": [
    {
     "data": {
      "text/plain": [
       "WeightSeq(\n",
       "  (item_emb): Embedding(1410676, 128, padding_idx=0)\n",
       "  (emb_dropout): Dropout(p=0.0, inplace=False)\n",
       "  (mlp): Sequential(\n",
       "    (0): Linear(in_features=512, out_features=512, bias=True)\n",
       "    (1): GELU(approximate='none')\n",
       "    (2): Linear(in_features=512, out_features=128, bias=True)\n",
       "  )\n",
       ")"
      ]
     },
     "execution_count": 9,
     "metadata": {},
     "output_type": "execute_result"
    }
   ],
   "source": [
    "model = WeightSeq().cuda()\n",
    "model.load_state_dict(torch.load('ckpt/task1-weight_embd2.pt'))\n",
    "model.eval()"
   ]
  },
  {
   "cell_type": "code",
   "execution_count": 17,
   "id": "2f0bdd70-8808-48e9-886a-78968c63c3fb",
   "metadata": {},
   "outputs": [],
   "source": [
    "name = ['train','test','valid'][2]\n",
    "if name == 'test':\n",
    "    data = pd.read_pickle('../data/test_data_p2.dataset')\n",
    "    recall_data = pd.read_pickle('../xgb-task1/recall_'+name+'_250_with_nn_p2.dataset')\n",
    "elif name == 'train':\n",
    "    data = pd.read_pickle('../data/train_data_005.dataset')[::10]\n",
    "    recall_data = pd.read_pickle('../xgb-task1/recall_'+name+'_250_with_nn_p2.dataset')\n",
    "elif name == 'valid':\n",
    "    data = pd.read_pickle('../data/valid_data_005.dataset')\n",
    "    recall_data = pd.read_pickle('../xgb-task1/recall_'+name+'_250_with_nn_p2.dataset')\n",
    "session = data['session'].tolist()\n",
    "locale = data['locale'].tolist()\n",
    "recall1 = recall_data['next_item_prediction']\n",
    "locale2ids = pickle.load(open('../data/local2ids.pkl', 'rb'))"
   ]
  },
  {
   "cell_type": "code",
   "execution_count": 18,
   "id": "6ecc9eac-705a-4d9e-89de-a7e5846cf480",
   "metadata": {},
   "outputs": [
    {
     "name": "stderr",
     "output_type": "stream",
     "text": [
      "100%|██████████| 16364/16364 [00:28<00:00, 573.95it/s]\n"
     ]
    }
   ],
   "source": [
    "recall1_logits = []\n",
    "for i in tqdm(range(len(session))):\n",
    "    recall_items = torch.tensor(recall1[i]).cuda()\n",
    "    if recall_items.shape[0] == 0:\n",
    "        recall1_logits.append([])\n",
    "        continue\n",
    "    row = session[i]\n",
    "    if name != 'test':\n",
    "        label = row[-1]\n",
    "        row = row[:-1]\n",
    "    row = [0,0,0,0,0] + list(dict.fromkeys(row[::-1]))[::-1]\n",
    "    input_ids = torch.tensor([row]).cuda()\n",
    "    with torch.no_grad():\n",
    "        with autocast():\n",
    "            pred = model(input_ids, recall_items)[0].tolist()\n",
    "    recall1_logits.append(pred)"
   ]
  },
  {
   "cell_type": "code",
   "execution_count": 19,
   "id": "8c351a6d-508e-4272-a6ad-2779b0eb349c",
   "metadata": {},
   "outputs": [
    {
     "data": {
      "text/html": [
       "<div>\n",
       "<style scoped>\n",
       "    .dataframe tbody tr th:only-of-type {\n",
       "        vertical-align: middle;\n",
       "    }\n",
       "\n",
       "    .dataframe tbody tr th {\n",
       "        vertical-align: top;\n",
       "    }\n",
       "\n",
       "    .dataframe thead th {\n",
       "        text-align: right;\n",
       "    }\n",
       "</style>\n",
       "<table border=\"1\" class=\"dataframe\">\n",
       "  <thead>\n",
       "    <tr style=\"text-align: right;\">\n",
       "      <th></th>\n",
       "      <th>nn_logits</th>\n",
       "    </tr>\n",
       "  </thead>\n",
       "  <tbody>\n",
       "    <tr>\n",
       "      <th>0</th>\n",
       "      <td>[0.77783203125, 0.01113128662109375, 0.1555175...</td>\n",
       "    </tr>\n",
       "    <tr>\n",
       "      <th>1</th>\n",
       "      <td>[0.6982421875, 0.64404296875, 0.54833984375, 0...</td>\n",
       "    </tr>\n",
       "    <tr>\n",
       "      <th>2</th>\n",
       "      <td>[0.859375, 0.84912109375, 0.67041015625, 0.809...</td>\n",
       "    </tr>\n",
       "    <tr>\n",
       "      <th>3</th>\n",
       "      <td>[0.7275390625, 0.71044921875, 0.81396484375, 0...</td>\n",
       "    </tr>\n",
       "    <tr>\n",
       "      <th>4</th>\n",
       "      <td>[0.1844482421875, 0.1629638671875, 0.158813476...</td>\n",
       "    </tr>\n",
       "    <tr>\n",
       "      <th>...</th>\n",
       "      <td>...</td>\n",
       "    </tr>\n",
       "    <tr>\n",
       "      <th>16359</th>\n",
       "      <td>[0.79248046875, 0.69091796875, 0.7470703125, 0...</td>\n",
       "    </tr>\n",
       "    <tr>\n",
       "      <th>16360</th>\n",
       "      <td>[0.8916015625, 0.865234375, 0.8583984375, 0.79...</td>\n",
       "    </tr>\n",
       "    <tr>\n",
       "      <th>16361</th>\n",
       "      <td>[0.85009765625, 0.783203125, 0.66455078125, 0....</td>\n",
       "    </tr>\n",
       "    <tr>\n",
       "      <th>16362</th>\n",
       "      <td>[0.82373046875, 0.84912109375, 0.7783203125, 0...</td>\n",
       "    </tr>\n",
       "    <tr>\n",
       "      <th>16363</th>\n",
       "      <td>[0.92529296875, 0.9033203125, 0.372314453125, ...</td>\n",
       "    </tr>\n",
       "  </tbody>\n",
       "</table>\n",
       "<p>16364 rows × 1 columns</p>\n",
       "</div>"
      ],
      "text/plain": [
       "                                               nn_logits\n",
       "0      [0.77783203125, 0.01113128662109375, 0.1555175...\n",
       "1      [0.6982421875, 0.64404296875, 0.54833984375, 0...\n",
       "2      [0.859375, 0.84912109375, 0.67041015625, 0.809...\n",
       "3      [0.7275390625, 0.71044921875, 0.81396484375, 0...\n",
       "4      [0.1844482421875, 0.1629638671875, 0.158813476...\n",
       "...                                                  ...\n",
       "16359  [0.79248046875, 0.69091796875, 0.7470703125, 0...\n",
       "16360  [0.8916015625, 0.865234375, 0.8583984375, 0.79...\n",
       "16361  [0.85009765625, 0.783203125, 0.66455078125, 0....\n",
       "16362  [0.82373046875, 0.84912109375, 0.7783203125, 0...\n",
       "16363  [0.92529296875, 0.9033203125, 0.372314453125, ...\n",
       "\n",
       "[16364 rows x 1 columns]"
      ]
     },
     "execution_count": 19,
     "metadata": {},
     "output_type": "execute_result"
    }
   ],
   "source": [
    "df = pd.DataFrame({'nn_logits':recall1_logits})\n",
    "df.to_pickle('../xgb-task1/logits_'+name+'_p2.dataset')\n",
    "df"
   ]
  }
 ],
 "metadata": {
  "kernelspec": {
   "display_name": "Python 3 (ipykernel)",
   "language": "python",
   "name": "python3"
  },
  "language_info": {
   "codemirror_mode": {
    "name": "ipython",
    "version": 3
   },
   "file_extension": ".py",
   "mimetype": "text/x-python",
   "name": "python",
   "nbconvert_exporter": "python",
   "pygments_lexer": "ipython3",
   "version": "3.7.16"
  }
 },
 "nbformat": 4,
 "nbformat_minor": 5
}
