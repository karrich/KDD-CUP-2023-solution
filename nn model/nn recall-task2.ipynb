{
 "cells": [
  {
   "cell_type": "code",
   "execution_count": 1,
   "id": "e0149767-46fc-4efa-a77b-db47f9927c31",
   "metadata": {},
   "outputs": [],
   "source": [
    "import numpy as np\n",
    "import torch\n",
    "import torch.nn as nn\n",
    "import torch.nn.functional as F\n",
    "import os\n",
    "import pickle\n",
    "import argparse\n",
    "import numpy as np\n",
    "import pandas as pd\n",
    "from tqdm import tqdm\n",
    "import torch\n",
    "import torch.nn as nn\n",
    "import torch.nn.functional as F\n",
    "from collections import defaultdict, Counter\n",
    "from torch.cuda.amp import autocast, GradScaler\n",
    "from torch.optim import *\n",
    "from torch.utils.data import Dataset, DataLoader\n",
    "from lion import Lion\n",
    "from sklearn.model_selection import train_test_split\n",
    "os.environ[\"CUDA_VISIBLE_DEVICES\"] = str(3)"
   ]
  },
  {
   "attachments": {},
   "cell_type": "markdown",
   "id": "8c735be0-606e-4084-95ee-d2d319c08785",
   "metadata": {
    "tags": []
   },
   "source": [
    "# model"
   ]
  },
  {
   "cell_type": "code",
   "execution_count": 2,
   "id": "a39370fb-c148-42a3-bd4e-1e03c81e4fd4",
   "metadata": {},
   "outputs": [],
   "source": [
    "class BaseModel(torch.nn.Module):\n",
    "    def __init__(self):\n",
    "        super(BaseModel, self).__init__()\n",
    "        self.max_ = None\n",
    "        self.emb_dropout = torch.nn.Dropout(p=0.2)\n",
    "        self.seq_len = 2\n",
    "        \n",
    "\n",
    "    def seq_embed(self, input_ids, seq_len=2):\n",
    "        input_embed = self.emb_dropout(self.item_emb(input_ids[:,-seq_len:]))\n",
    "        input_embed = input_embed.reshape(input_ids.shape[0],-1)\n",
    "        \n",
    "        input_embed = self.mlp(input_embed)\n",
    "        input_embed = F.normalize(input_embed, p=2, dim=1)\n",
    "        return input_embed\n",
    "    \n",
    "    def recall_embed(self, recall_ids):\n",
    "        item_embed = self.emb_dropout(self.item_emb(recall_ids))\n",
    "        item_embed = F.normalize(item_embed, p=2, dim=1)\n",
    "        return item_embed\n",
    "    \n",
    "    def forward(self,\n",
    "                input_ids,\n",
    "                recall_items,\n",
    "                number = 0,\n",
    "               ):\n",
    "        input_embed = self.seq_embed(input_ids, self.seq_len)\n",
    "        item_embed = self.recall_embed(recall_items)\n",
    "        \n",
    "        logits = input_embed.mm(item_embed.T)\n",
    "        \n",
    "        return logits\n",
    "    \n",
    "    def reset_para(self):\n",
    "        for p in self.parameters():\n",
    "            if p.dim() > 1:\n",
    "                nn.init.xavier_uniform_(p)\n",
    "        nn.init.normal_(self.item_emb.weight, std=0.01)\n",
    "                \n",
    "class DoubleSeq(BaseModel):\n",
    "    def __init__(self):\n",
    "        super(DoubleSeq, self).__init__()\n",
    "        \n",
    "        self.seq_len = 2\n",
    "        self.item_emb = torch.nn.Embedding(1410676, 128, padding_idx=0)\n",
    "        self.emb_dropout = torch.nn.Dropout(p=0.0)\n",
    "        # self.gru = nn.GRU(input_size=128, hidden_size=128)\n",
    "        self.mlp = nn.Sequential(\n",
    "                torch.nn.Linear(128*2, 128),\n",
    "                torch.nn.GELU(),\n",
    "                torch.nn.Linear(128, 128)\n",
    "            )\n",
    "        self.reset_para()"
   ]
  },
  {
   "cell_type": "code",
   "execution_count": 3,
   "id": "4b76b0c0-080e-4a63-9ead-661e83b60454",
   "metadata": {},
   "outputs": [],
   "source": [
    "class WeightSeq(torch.nn.Module):\n",
    "    def __init__(self, path=None):\n",
    "        super(WeightSeq, self).__init__()\n",
    "\n",
    "        self.item_num = 1410676\n",
    "        self.seq_len = 0\n",
    "        self.item_emb = torch.nn.Embedding(1410676, 128, padding_idx=0)\n",
    "        self.emb_dropout = torch.nn.Dropout(p=0.0)\n",
    "        self.max_ = None\n",
    "        self.seq_len = 2\n",
    "        self.mlp = nn.Sequential(\n",
    "                torch.nn.Linear(128*4, 128*4),\n",
    "                torch.nn.GELU(),\n",
    "                torch.nn.Linear(128*4, 128)\n",
    "            )\n",
    "        self.reset_para()\n",
    "        if path is not None:\n",
    "            self.item_emb = torch.load(path)\n",
    "\n",
    "\n",
    "    def seq_embed(self, input_ids, all_ids =None, index=None, seq_len=2):\n",
    "        input_embed = self.emb_dropout(self.item_emb(input_ids)) \n",
    "        a = input_embed[:,:-4,:]\n",
    "        mask = input_ids.clone()[:,:-4]\n",
    "        mask[mask!=0] = 1\n",
    "        a = (a*mask.unsqueeze(-1)).sum(dim=-2)\n",
    "        mask = mask.sum(dim=-1).unsqueeze(-1)\n",
    "        mask_t = mask.clone()\n",
    "        mask_t[mask_t==0]=1\n",
    "        a = a/mask_t\n",
    "        mask[mask==0]=-1\n",
    "        mask[mask>0]=0\n",
    "        mask[mask==-1]=1\n",
    "        add = self.emb_dropout(self.item_emb(torch.tensor([0]).cuda())).repeat(input_ids.shape[0],1)\n",
    "        add = add *mask\n",
    "        a = a+add\n",
    "        \n",
    "        b = input_embed[:,-4:-2,:]\n",
    "        mask = input_ids.clone()[:,-4:-2]\n",
    "        mask[mask!=0] = 1\n",
    "        b = (b*mask.unsqueeze(-1)).sum(dim=-2)\n",
    "        mask = mask.sum(dim=-1).unsqueeze(-1)\n",
    "        mask_t = mask.clone()\n",
    "        mask_t[mask_t==0]=1\n",
    "        b = b/mask_t\n",
    "        mask[mask==0]=-1\n",
    "        mask[mask>0]=0\n",
    "        mask[mask==-1]=1\n",
    "        add = self.emb_dropout(self.item_emb(torch.tensor([0]).cuda())).repeat(input_ids.shape[0],1)\n",
    "        add = add *mask\n",
    "        b = b+add\n",
    "        \n",
    "        c = input_embed[:,-2,:]\n",
    "\n",
    "        d = input_embed[:,-1,:]\n",
    "        \n",
    "        input_embed = self.mlp(torch.cat([a,b,c,d],dim=-1))\n",
    "        input_embed = F.normalize(input_embed, p=2, dim=1)\n",
    "        return input_embed\n",
    "    \n",
    "    def recall_embed(self, recall_ids):\n",
    "        item_embed = self.emb_dropout(self.item_emb(recall_ids))\n",
    "        item_embed = F.normalize(item_embed, p=2, dim=1)\n",
    "        return item_embed\n",
    "    \n",
    "    def forward(self,\n",
    "                input_ids,\n",
    "                recall_items,\n",
    "                all_ids = None,\n",
    "                index = None,\n",
    "                number = 0,\n",
    "               ):\n",
    "        input_embed = self.seq_embed(input_ids, all_ids, index, self.seq_len)\n",
    "        item_embed = self.recall_embed(recall_items)\n",
    "        \n",
    "        logits = input_embed.mm(item_embed.T)\n",
    "        \n",
    "        return logits\n",
    "\n",
    "    def reset_para(self):\n",
    "        for p in self.parameters():\n",
    "            if p.dim() > 1:\n",
    "                nn.init.xavier_uniform_(p)\n",
    "        nn.init.normal_(self.item_emb.weight, std=0.01)"
   ]
  },
  {
   "attachments": {},
   "cell_type": "markdown",
   "id": "a5b49db8-78ff-48ad-ab13-f33730b56e25",
   "metadata": {
    "tags": []
   },
   "source": [
    "# main"
   ]
  },
  {
   "cell_type": "code",
   "execution_count": 15,
   "id": "cd896cb7-56d7-4f6d-a622-288a612121ff",
   "metadata": {},
   "outputs": [
    {
     "data": {
      "text/plain": [
       "DoubleSeq(\n",
       "  (emb_dropout): Dropout(p=0.0, inplace=False)\n",
       "  (item_emb): Embedding(1410676, 128, padding_idx=0)\n",
       "  (mlp): Sequential(\n",
       "    (0): Linear(in_features=256, out_features=128, bias=True)\n",
       "    (1): GELU(approximate='none')\n",
       "    (2): Linear(in_features=128, out_features=128, bias=True)\n",
       "  )\n",
       ")"
      ]
     },
     "execution_count": 15,
     "metadata": {},
     "output_type": "execute_result"
    }
   ],
   "source": [
    "model = DoubleSeq().cuda()\n",
    "model.load_state_dict(torch.load('ckpt/0.3084.pt'))\n",
    "model.eval()\n",
    "# model = WeightSeq().cuda()\n",
    "# model.load_state_dict(torch.load('ckpt/0.3144.pt'))\n",
    "# model.eval()"
   ]
  },
  {
   "cell_type": "code",
   "execution_count": 16,
   "id": "63b70187-cb81-4d6d-bf10-4b9dcbf0a1b7",
   "metadata": {},
   "outputs": [
    {
     "name": "stderr",
     "output_type": "stream",
     "text": [
      "100%|██████████| 34690/34690 [01:26<00:00, 401.51it/s] \n"
     ]
    }
   ],
   "source": [
    "for name in ['test']:\n",
    "    if name == 'test':\n",
    "        data = pd.read_pickle('../data/test_data2_p2.dataset')\n",
    "    elif name == 'train':\n",
    "        data = pd.read_pickle('../data/train_data2_005.dataset')\n",
    "    elif name == 'valid':\n",
    "        data = pd.read_pickle('../data/valid_data2_005.dataset')\n",
    "\n",
    "    session = data['session'].tolist()\n",
    "    locale = data['locale'].tolist()\n",
    "    locale2ids = pickle.load(open('../data/local2ids.pkl', 'rb'))\n",
    "\n",
    "    recall_items = torch.tensor(locale2ids[locale[0]]).cuda()\n",
    "    recall2 = []\n",
    "    recall2_logits = []\n",
    "    for i in tqdm(range(len(session))):\n",
    "        if i !=0 and locale[i] != locale[i-1]:\n",
    "            recall_items = torch.tensor(locale2ids[locale[i]]).cuda()\n",
    "        row = session[i]\n",
    "        if name != 'test':\n",
    "            label = row[-1]\n",
    "            row = row[:-1]\n",
    "        row = list(dict.fromkeys(row[::-1]))[::-1]\n",
    "        if len(row)==1:\n",
    "            row = row+row\n",
    "        input_ids = torch.tensor([row[-2:]]).cuda()\n",
    "        with torch.no_grad():\n",
    "            with autocast():\n",
    "                pred = model(input_ids, recall_items)[0]\n",
    "        idx = pred.topk(200).indices \n",
    "        pred_items_ids = recall_items[idx.cpu().numpy()].tolist()\n",
    "        logits = pred[idx].tolist()\n",
    "        recall2.append(pred_items_ids)\n",
    "        recall2_logits.append(logits)\n",
    "    recall2_data = pd.DataFrame({'next_item_prediction':recall2,'nn_logits':recall2_logits})\n",
    "    recall2_data.to_pickle('../data/recall2_'+name+'2_200_p2.dataset')"
   ]
  },
  {
   "cell_type": "code",
   "execution_count": 17,
   "id": "9193b944-e306-4930-9128-6545c53e8110",
   "metadata": {},
   "outputs": [
    {
     "name": "stderr",
     "output_type": "stream",
     "text": [
      "100%|██████████| 34690/34690 [01:07<00:00, 516.80it/s]\n",
      "100%|██████████| 34690/34690 [03:26<00:00, 167.59it/s]\n"
     ]
    }
   ],
   "source": [
    "for name in ['test']:\n",
    "    if name == 'test':\n",
    "        data = pd.read_pickle('../data/test_data2_p2.dataset')\n",
    "        recall_data = pd.read_pickle('../data/recall1_test2_200_p2.dataset')\n",
    "    elif name == 'train':\n",
    "        data = pd.read_pickle('../data/train_data2_005.dataset')\n",
    "        recall_data = pd.read_pickle('../data/recall1_train2_200_p2.dataset')\n",
    "    elif name == 'valid':\n",
    "        data = pd.read_pickle('../data/valid_data2_005.dataset')\n",
    "        recall_data = pd.read_pickle('../data/recall1_valid2_200_p2.dataset')\n",
    "    session = data['session'].tolist()\n",
    "    locale = data['locale'].tolist()\n",
    "    recall1 = recall_data['next_item_prediction']\n",
    "    locale2ids = pickle.load(open('../data/local2ids.pkl', 'rb'))\n",
    "    \n",
    "    recall1_logits = []\n",
    "    for i in tqdm(range(len(session))):\n",
    "        recall_items = torch.tensor(recall1[i]).cuda()\n",
    "        if recall_items.shape[0] == 0:\n",
    "            recall1_logits.append([])\n",
    "            continue\n",
    "        row = session[i]\n",
    "        if name != 'test':\n",
    "            label = row[-1]\n",
    "            row = row[:-1]\n",
    "        row = list(dict.fromkeys(row[::-1]))[::-1]\n",
    "        if len(row)==1:\n",
    "            row = row+row\n",
    "        input_ids = torch.tensor([row]).cuda()\n",
    "        with torch.no_grad():\n",
    "            with autocast():\n",
    "                pred = model(input_ids, recall_items)[0].tolist()\n",
    "        recall1_logits.append(pred)\n",
    "        \n",
    "    recall2_data = pd.read_pickle('../data/recall2_'+name+'2_200_p2.dataset')\n",
    "    recall2 = recall2_data['next_item_prediction'].tolist()\n",
    "    recall2_logits = recall2_data['nn_logits'].tolist()\n",
    "    real_recall = []\n",
    "    real_logits = []\n",
    "    rank = []\n",
    "    for i in tqdm(range(len(recall2))):\n",
    "        recall_temp = recall1[i][:200]\n",
    "        logits_temp = recall1_logits[i][:200]\n",
    "        rank_temp = list(range(len(logits_temp)))\n",
    "        row = session[i]\n",
    "        if name != 'test':\n",
    "            row = row[:-1]\n",
    "        for j in range(len(recall2[i])):\n",
    "            if len(rank_temp)==250:\n",
    "                break\n",
    "            if recall2[i][j] in recall_temp:\n",
    "                continue\n",
    "            if recall2[i][j] in row:\n",
    "                continue\n",
    "            recall_temp.append(recall2[i][j])\n",
    "            logits_temp.append(recall2_logits[i][j])\n",
    "            if recall2[i][j] in recall1[i]:\n",
    "                rank_temp.append(recall1[i].index(recall2[i][j]))\n",
    "            else:\n",
    "                rank_temp.append(-1)\n",
    "        real_recall.append(recall_temp)\n",
    "        real_logits.append(logits_temp)\n",
    "        rank.append(rank_temp)\n",
    "    df = pd.DataFrame({'next_item_prediction':real_recall,'nn_logits':real_logits,'rank':rank})\n",
    "    df.to_pickle('../xgb-task2/recall_'+name+'2_250_with_nn_p2.dataset')"
   ]
  },
  {
   "attachments": {},
   "cell_type": "markdown",
   "id": "779e0f06-f83c-401a-9be2-d900408574c8",
   "metadata": {
    "jp-MarkdownHeadingCollapsed": true,
    "tags": []
   },
   "source": [
    "# 验证结果"
   ]
  },
  {
   "cell_type": "code",
   "execution_count": 16,
   "id": "e9704615-84fc-467a-be77-049c84ca4cb3",
   "metadata": {},
   "outputs": [
    {
     "name": "stderr",
     "output_type": "stream",
     "text": [
      "100%|██████████| 1668/1668 [00:00<00:00, 83529.53it/s]"
     ]
    },
    {
     "name": "stdout",
     "output_type": "stream",
     "text": [
      "0.34533651210096367\n"
     ]
    },
    {
     "name": "stderr",
     "output_type": "stream",
     "text": [
      "\n"
     ]
    }
   ],
   "source": [
    "mrr = 0\n",
    "recall_at = [0 for _ in range(200)]\n",
    "for i in tqdm(range(len(session))):\n",
    "    row = session[i]\n",
    "    label = row[-1]\n",
    "    row = row[:-1]\n",
    "    if label not in recall2[i]:\n",
    "        continue\n",
    "    index = 9999\n",
    "    number = 0\n",
    "    for j in range(len(recall2[i])):\n",
    "        if recall2[i][j] in row:\n",
    "            continue\n",
    "        number+=1\n",
    "        if recall2[i][j] == label:\n",
    "            index = number\n",
    "            break\n",
    "    if index<=100:\n",
    "        recall_at[index-1]+=1\n",
    "        mrr += 1/index\n",
    "print(mrr/len(session))"
   ]
  },
  {
   "attachments": {},
   "cell_type": "markdown",
   "id": "aaa9cd5b-22ae-487f-8cc4-0af8459ba059",
   "metadata": {
    "tags": []
   },
   "source": [
    "# updata"
   ]
  },
  {
   "cell_type": "code",
   "execution_count": 9,
   "id": "23f83227-6ed5-4805-bff1-860a91b26996",
   "metadata": {},
   "outputs": [
    {
     "data": {
      "text/plain": [
       "DoubleSeq(\n",
       "  (emb_dropout): Dropout(p=0.0, inplace=False)\n",
       "  (item_emb): Embedding(1410676, 128, padding_idx=0)\n",
       "  (mlp): Sequential(\n",
       "    (0): Linear(in_features=256, out_features=128, bias=True)\n",
       "    (1): GELU(approximate='none')\n",
       "    (2): Linear(in_features=128, out_features=128, bias=True)\n",
       "  )\n",
       ")"
      ]
     },
     "execution_count": 9,
     "metadata": {},
     "output_type": "execute_result"
    }
   ],
   "source": [
    "model = DoubleSeq().cuda()\n",
    "model.load_state_dict(torch.load('ckpt/0.3084.pt'))\n",
    "model.eval()"
   ]
  },
  {
   "cell_type": "code",
   "execution_count": 14,
   "id": "a74f6140-1f2f-4ba0-8610-57dba6c79ac6",
   "metadata": {},
   "outputs": [
    {
     "ename": "FileNotFoundError",
     "evalue": "[Errno 2] No such file or directory: '../XGBOOST/recall_test2_1050_with_nn_p4.dataset'",
     "output_type": "error",
     "traceback": [
      "\u001b[0;31m---------------------------------------------------------------------------\u001b[0m",
      "\u001b[0;31mFileNotFoundError\u001b[0m                         Traceback (most recent call last)",
      "\u001b[0;32m/tmp/ipykernel_343619/282685198.py\u001b[0m in \u001b[0;36m<module>\u001b[0;34m\u001b[0m\n\u001b[1;32m      2\u001b[0m \u001b[0;32mif\u001b[0m \u001b[0mname\u001b[0m \u001b[0;34m==\u001b[0m \u001b[0;34m'test'\u001b[0m\u001b[0;34m:\u001b[0m\u001b[0;34m\u001b[0m\u001b[0;34m\u001b[0m\u001b[0m\n\u001b[1;32m      3\u001b[0m     \u001b[0mdata\u001b[0m \u001b[0;34m=\u001b[0m \u001b[0mpd\u001b[0m\u001b[0;34m.\u001b[0m\u001b[0mread_pickle\u001b[0m\u001b[0;34m(\u001b[0m\u001b[0;34m'../data/test_data2_p2.dataset'\u001b[0m\u001b[0;34m)\u001b[0m\u001b[0;34m\u001b[0m\u001b[0;34m\u001b[0m\u001b[0m\n\u001b[0;32m----> 4\u001b[0;31m     \u001b[0mrecall_data\u001b[0m \u001b[0;34m=\u001b[0m \u001b[0mpd\u001b[0m\u001b[0;34m.\u001b[0m\u001b[0mread_pickle\u001b[0m\u001b[0;34m(\u001b[0m\u001b[0;34m'../XGBOOST/recall_'\u001b[0m\u001b[0;34m+\u001b[0m\u001b[0mname\u001b[0m\u001b[0;34m+\u001b[0m\u001b[0;34m'2_1050_with_nn_p4.dataset'\u001b[0m\u001b[0;34m)\u001b[0m\u001b[0;34m\u001b[0m\u001b[0;34m\u001b[0m\u001b[0m\n\u001b[0m\u001b[1;32m      5\u001b[0m \u001b[0;32melif\u001b[0m \u001b[0mname\u001b[0m \u001b[0;34m==\u001b[0m \u001b[0;34m'train'\u001b[0m\u001b[0;34m:\u001b[0m\u001b[0;34m\u001b[0m\u001b[0;34m\u001b[0m\u001b[0m\n\u001b[1;32m      6\u001b[0m     \u001b[0mdata\u001b[0m \u001b[0;34m=\u001b[0m \u001b[0mpd\u001b[0m\u001b[0;34m.\u001b[0m\u001b[0mread_pickle\u001b[0m\u001b[0;34m(\u001b[0m\u001b[0;34m'../data/train_data2_005.dataset'\u001b[0m\u001b[0;34m)\u001b[0m\u001b[0;34m\u001b[0m\u001b[0;34m\u001b[0m\u001b[0m\n",
      "\u001b[0;32m~/anaconda3/envs/py37/lib/python3.7/site-packages/pandas/io/pickle.py\u001b[0m in \u001b[0;36mread_pickle\u001b[0;34m(filepath_or_buffer, compression, storage_options)\u001b[0m\n\u001b[1;32m    199\u001b[0m         \u001b[0mcompression\u001b[0m\u001b[0;34m=\u001b[0m\u001b[0mcompression\u001b[0m\u001b[0;34m,\u001b[0m\u001b[0;34m\u001b[0m\u001b[0;34m\u001b[0m\u001b[0m\n\u001b[1;32m    200\u001b[0m         \u001b[0mis_text\u001b[0m\u001b[0;34m=\u001b[0m\u001b[0;32mFalse\u001b[0m\u001b[0;34m,\u001b[0m\u001b[0;34m\u001b[0m\u001b[0;34m\u001b[0m\u001b[0m\n\u001b[0;32m--> 201\u001b[0;31m         \u001b[0mstorage_options\u001b[0m\u001b[0;34m=\u001b[0m\u001b[0mstorage_options\u001b[0m\u001b[0;34m,\u001b[0m\u001b[0;34m\u001b[0m\u001b[0;34m\u001b[0m\u001b[0m\n\u001b[0m\u001b[1;32m    202\u001b[0m     ) as handles:\n\u001b[1;32m    203\u001b[0m \u001b[0;34m\u001b[0m\u001b[0m\n",
      "\u001b[0;32m~/anaconda3/envs/py37/lib/python3.7/site-packages/pandas/io/common.py\u001b[0m in \u001b[0;36mget_handle\u001b[0;34m(path_or_buf, mode, encoding, compression, memory_map, is_text, errors, storage_options)\u001b[0m\n\u001b[1;32m    709\u001b[0m         \u001b[0;32melse\u001b[0m\u001b[0;34m:\u001b[0m\u001b[0;34m\u001b[0m\u001b[0;34m\u001b[0m\u001b[0m\n\u001b[1;32m    710\u001b[0m             \u001b[0;31m# Binary mode\u001b[0m\u001b[0;34m\u001b[0m\u001b[0;34m\u001b[0m\u001b[0;34m\u001b[0m\u001b[0m\n\u001b[0;32m--> 711\u001b[0;31m             \u001b[0mhandle\u001b[0m \u001b[0;34m=\u001b[0m \u001b[0mopen\u001b[0m\u001b[0;34m(\u001b[0m\u001b[0mhandle\u001b[0m\u001b[0;34m,\u001b[0m \u001b[0mioargs\u001b[0m\u001b[0;34m.\u001b[0m\u001b[0mmode\u001b[0m\u001b[0;34m)\u001b[0m\u001b[0;34m\u001b[0m\u001b[0;34m\u001b[0m\u001b[0m\n\u001b[0m\u001b[1;32m    712\u001b[0m         \u001b[0mhandles\u001b[0m\u001b[0;34m.\u001b[0m\u001b[0mappend\u001b[0m\u001b[0;34m(\u001b[0m\u001b[0mhandle\u001b[0m\u001b[0;34m)\u001b[0m\u001b[0;34m\u001b[0m\u001b[0;34m\u001b[0m\u001b[0m\n\u001b[1;32m    713\u001b[0m \u001b[0;34m\u001b[0m\u001b[0m\n",
      "\u001b[0;31mFileNotFoundError\u001b[0m: [Errno 2] No such file or directory: '../XGBOOST/recall_test2_1050_with_nn_p4.dataset'"
     ]
    }
   ],
   "source": [
    "name = ['train','test','valid'][1]\n",
    "if name == 'test':\n",
    "    data = pd.read_pickle('../data/test_data2_p2.dataset')\n",
    "    recall_data = pd.read_pickle('../XGBOOST/recall_'+name+'2_1050_with_nn_p2_2.dataset')\n",
    "elif name == 'train':\n",
    "    data = pd.read_pickle('../data/train_data2_005.dataset')\n",
    "    recall_data = pd.read_pickle('../XGBOOST/recall_'+name+'2_250_with_nn_p2_2.dataset')\n",
    "elif name == 'valid':\n",
    "    data = pd.read_pickle('../data/valid_data2_005.dataset')\n",
    "    recall_data = pd.read_pickle('../XGBOOST/recall_'+name+'2_250_with_nn_p2_2.dataset')\n",
    "session = data['session'].tolist()\n",
    "locale = data['locale'].tolist()\n",
    "recall1 = recall_data['next_item_prediction']\n",
    "locale2ids = pickle.load(open('../data/local2ids.pkl', 'rb'))"
   ]
  },
  {
   "cell_type": "code",
   "execution_count": 11,
   "id": "0ea5a977-5511-4fb6-8aab-270a28813e5f",
   "metadata": {},
   "outputs": [
    {
     "name": "stderr",
     "output_type": "stream",
     "text": [
      "100%|██████████| 1668/1668 [00:03<00:00, 534.36it/s]\n"
     ]
    }
   ],
   "source": [
    "recall1_logits = []\n",
    "for i in tqdm(range(len(session))):\n",
    "    recall_items = torch.tensor(recall1[i]).cuda()\n",
    "    if recall_items.shape[0] == 0:\n",
    "        recall1_logits.append([])\n",
    "        continue\n",
    "    row = session[i]\n",
    "    if name != 'test':\n",
    "        label = row[-1]\n",
    "        row = row[:-1]\n",
    "    row = list(dict.fromkeys(row[::-1]))[::-1]\n",
    "    if len(row)==1:\n",
    "        row = row+row\n",
    "    input_ids = torch.tensor([row]).cuda()\n",
    "    with torch.no_grad():\n",
    "        with autocast():\n",
    "            pred = model(input_ids, recall_items)[0].tolist()\n",
    "    recall1_logits.append(pred)"
   ]
  },
  {
   "cell_type": "code",
   "execution_count": 12,
   "id": "0ac16227-97f7-41db-8ca6-3648c0394add",
   "metadata": {},
   "outputs": [
    {
     "data": {
      "text/html": [
       "<div>\n",
       "<style scoped>\n",
       "    .dataframe tbody tr th:only-of-type {\n",
       "        vertical-align: middle;\n",
       "    }\n",
       "\n",
       "    .dataframe tbody tr th {\n",
       "        vertical-align: top;\n",
       "    }\n",
       "\n",
       "    .dataframe thead th {\n",
       "        text-align: right;\n",
       "    }\n",
       "</style>\n",
       "<table border=\"1\" class=\"dataframe\">\n",
       "  <thead>\n",
       "    <tr style=\"text-align: right;\">\n",
       "      <th></th>\n",
       "      <th>nn_logits</th>\n",
       "    </tr>\n",
       "  </thead>\n",
       "  <tbody>\n",
       "    <tr>\n",
       "      <th>0</th>\n",
       "      <td>[0.2978515625, 0.65673828125, 0.46435546875, 0...</td>\n",
       "    </tr>\n",
       "    <tr>\n",
       "      <th>1</th>\n",
       "      <td>[0.36669921875, 0.41650390625, 0.414794921875,...</td>\n",
       "    </tr>\n",
       "    <tr>\n",
       "      <th>2</th>\n",
       "      <td>[0.90283203125, 0.923828125, 0.82177734375, 0....</td>\n",
       "    </tr>\n",
       "    <tr>\n",
       "      <th>3</th>\n",
       "      <td>[-0.002193450927734375, 0.3876953125, 0.485839...</td>\n",
       "    </tr>\n",
       "    <tr>\n",
       "      <th>4</th>\n",
       "      <td>[0.55908203125, 0.5615234375, 0.4404296875, 0....</td>\n",
       "    </tr>\n",
       "    <tr>\n",
       "      <th>...</th>\n",
       "      <td>...</td>\n",
       "    </tr>\n",
       "    <tr>\n",
       "      <th>1663</th>\n",
       "      <td>[0.80224609375, 0.75390625, 0.83203125, 0.5502...</td>\n",
       "    </tr>\n",
       "    <tr>\n",
       "      <th>1664</th>\n",
       "      <td>[0.78173828125, 0.6279296875, 0.5234375, 0.655...</td>\n",
       "    </tr>\n",
       "    <tr>\n",
       "      <th>1665</th>\n",
       "      <td>[0.88134765625, 0.83251953125, 0.81201171875, ...</td>\n",
       "    </tr>\n",
       "    <tr>\n",
       "      <th>1666</th>\n",
       "      <td>[0.6845703125, 0.68359375, 0.6240234375, 0.615...</td>\n",
       "    </tr>\n",
       "    <tr>\n",
       "      <th>1667</th>\n",
       "      <td>[0.515625, 0.7880859375, 0.63037109375, 0.7978...</td>\n",
       "    </tr>\n",
       "  </tbody>\n",
       "</table>\n",
       "<p>1668 rows × 1 columns</p>\n",
       "</div>"
      ],
      "text/plain": [
       "                                              nn_logits\n",
       "0     [0.2978515625, 0.65673828125, 0.46435546875, 0...\n",
       "1     [0.36669921875, 0.41650390625, 0.414794921875,...\n",
       "2     [0.90283203125, 0.923828125, 0.82177734375, 0....\n",
       "3     [-0.002193450927734375, 0.3876953125, 0.485839...\n",
       "4     [0.55908203125, 0.5615234375, 0.4404296875, 0....\n",
       "...                                                 ...\n",
       "1663  [0.80224609375, 0.75390625, 0.83203125, 0.5502...\n",
       "1664  [0.78173828125, 0.6279296875, 0.5234375, 0.655...\n",
       "1665  [0.88134765625, 0.83251953125, 0.81201171875, ...\n",
       "1666  [0.6845703125, 0.68359375, 0.6240234375, 0.615...\n",
       "1667  [0.515625, 0.7880859375, 0.63037109375, 0.7978...\n",
       "\n",
       "[1668 rows x 1 columns]"
      ]
     },
     "execution_count": 12,
     "metadata": {},
     "output_type": "execute_result"
    }
   ],
   "source": [
    "df = pd.DataFrame({'nn_logits':recall1_logits})\n",
    "df.to_pickle('../XGBOOST/logits_'+name+'2_p2.dataset')\n",
    "df"
   ]
  }
 ],
 "metadata": {
  "kernelspec": {
   "display_name": "Python 3 (ipykernel)",
   "language": "python",
   "name": "python3"
  },
  "language_info": {
   "codemirror_mode": {
    "name": "ipython",
    "version": 3
   },
   "file_extension": ".py",
   "mimetype": "text/x-python",
   "name": "python",
   "nbconvert_exporter": "python",
   "pygments_lexer": "ipython3",
   "version": "3.7.16"
  }
 },
 "nbformat": 4,
 "nbformat_minor": 5
}
