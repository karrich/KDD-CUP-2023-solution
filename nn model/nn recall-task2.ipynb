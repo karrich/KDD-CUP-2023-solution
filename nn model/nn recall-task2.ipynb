{
 "cells": [
  {
   "cell_type": "code",
   "execution_count": 1,
   "id": "e0149767-46fc-4efa-a77b-db47f9927c31",
   "metadata": {},
   "outputs": [],
   "source": [
    "import numpy as np\n",
    "import torch\n",
    "import torch.nn as nn\n",
    "import torch.nn.functional as F\n",
    "import os\n",
    "import pickle\n",
    "import argparse\n",
    "import numpy as np\n",
    "import pandas as pd\n",
    "from tqdm import tqdm\n",
    "import torch\n",
    "import torch.nn as nn\n",
    "import torch.nn.functional as F\n",
    "from collections import defaultdict, Counter\n",
    "from torch.cuda.amp import autocast, GradScaler\n",
    "from torch.optim import *\n",
    "from torch.utils.data import Dataset, DataLoader\n",
    "from sklearn.model_selection import train_test_split\n",
    "os.environ[\"CUDA_VISIBLE_DEVICES\"] = str(3)"
   ]
  },
  {
   "attachments": {},
   "cell_type": "markdown",
   "id": "8c735be0-606e-4084-95ee-d2d319c08785",
   "metadata": {
    "tags": []
   },
   "source": [
    "# model"
   ]
  },
  {
   "cell_type": "code",
   "execution_count": 3,
   "id": "4b76b0c0-080e-4a63-9ead-661e83b60454",
   "metadata": {},
   "outputs": [],
   "source": [
    "class WeightSeq(torch.nn.Module):\n",
    "    def __init__(self, path=None):\n",
    "        super(WeightSeq, self).__init__()\n",
    "\n",
    "        self.item_num = 1410676\n",
    "        self.seq_len = 0\n",
    "        self.item_emb = torch.nn.Embedding(1410676, 128, padding_idx=0)\n",
    "        self.emb_dropout = torch.nn.Dropout(p=0.0)\n",
    "        self.max_ = None\n",
    "        self.seq_len = 2\n",
    "        self.mlp = nn.Sequential(\n",
    "                torch.nn.Linear(128*4, 128*4),\n",
    "                torch.nn.GELU(),\n",
    "                torch.nn.Linear(128*4, 128)\n",
    "            )\n",
    "        self.reset_para()\n",
    "        if path is not None:\n",
    "            self.item_emb = torch.load(path)\n",
    "\n",
    "\n",
    "    def seq_embed(self, input_ids, all_ids =None, index=None, seq_len=2):\n",
    "        input_embed = self.emb_dropout(self.item_emb(input_ids)) \n",
    "        a = input_embed[:,:-4,:]\n",
    "        mask = input_ids.clone()[:,:-4]\n",
    "        mask[mask!=0] = 1\n",
    "        a = (a*mask.unsqueeze(-1)).sum(dim=-2)\n",
    "        mask = mask.sum(dim=-1).unsqueeze(-1)\n",
    "        mask_t = mask.clone()\n",
    "        mask_t[mask_t==0]=1\n",
    "        a = a/mask_t\n",
    "        mask[mask==0]=-1\n",
    "        mask[mask>0]=0\n",
    "        mask[mask==-1]=1\n",
    "        add = self.emb_dropout(self.item_emb(torch.tensor([0]).cuda())).repeat(input_ids.shape[0],1)\n",
    "        add = add *mask\n",
    "        a = a+add\n",
    "        \n",
    "        b = input_embed[:,-4:-2,:]\n",
    "        mask = input_ids.clone()[:,-4:-2]\n",
    "        mask[mask!=0] = 1\n",
    "        b = (b*mask.unsqueeze(-1)).sum(dim=-2)\n",
    "        mask = mask.sum(dim=-1).unsqueeze(-1)\n",
    "        mask_t = mask.clone()\n",
    "        mask_t[mask_t==0]=1\n",
    "        b = b/mask_t\n",
    "        mask[mask==0]=-1\n",
    "        mask[mask>0]=0\n",
    "        mask[mask==-1]=1\n",
    "        add = self.emb_dropout(self.item_emb(torch.tensor([0]).cuda())).repeat(input_ids.shape[0],1)\n",
    "        add = add *mask\n",
    "        b = b+add\n",
    "        \n",
    "        c = input_embed[:,-2,:]\n",
    "\n",
    "        d = input_embed[:,-1,:]\n",
    "        \n",
    "        input_embed = self.mlp(torch.cat([a,b,c,d],dim=-1))\n",
    "        input_embed = F.normalize(input_embed, p=2, dim=1)\n",
    "        return input_embed\n",
    "    \n",
    "    def recall_embed(self, recall_ids):\n",
    "        item_embed = self.emb_dropout(self.item_emb(recall_ids))\n",
    "        item_embed = F.normalize(item_embed, p=2, dim=1)\n",
    "        return item_embed\n",
    "    \n",
    "    def forward(self,\n",
    "                input_ids,\n",
    "                recall_items,\n",
    "                all_ids = None,\n",
    "                index = None,\n",
    "                number = 0,\n",
    "               ):\n",
    "        input_embed = self.seq_embed(input_ids, all_ids, index, self.seq_len)\n",
    "        item_embed = self.recall_embed(recall_items)\n",
    "        \n",
    "        logits = input_embed.mm(item_embed.T)\n",
    "        \n",
    "        return logits\n",
    "\n",
    "    def reset_para(self):\n",
    "        for p in self.parameters():\n",
    "            if p.dim() > 1:\n",
    "                nn.init.xavier_uniform_(p)\n",
    "        nn.init.normal_(self.item_emb.weight, std=0.01)"
   ]
  },
  {
   "attachments": {},
   "cell_type": "markdown",
   "id": "a5b49db8-78ff-48ad-ab13-f33730b56e25",
   "metadata": {
    "tags": []
   },
   "source": [
    "# load model"
   ]
  },
  {
   "cell_type": "code",
   "execution_count": null,
   "id": "cd896cb7-56d7-4f6d-a622-288a612121ff",
   "metadata": {},
   "outputs": [],
   "source": [
    "model = WeightSeq().cuda()\n",
    "model.load_state_dict(torch.load('ckpt/task1-weight_embd2.pt'))\n",
    "model.eval()"
   ]
  },
  {
   "attachments": {},
   "cell_type": "markdown",
   "id": "b54e908e",
   "metadata": {},
   "source": [
    "# only recall by mlp"
   ]
  },
  {
   "cell_type": "code",
   "execution_count": 16,
   "id": "63b70187-cb81-4d6d-bf10-4b9dcbf0a1b7",
   "metadata": {},
   "outputs": [
    {
     "name": "stderr",
     "output_type": "stream",
     "text": [
      "100%|██████████| 34690/34690 [01:26<00:00, 401.51it/s] \n"
     ]
    }
   ],
   "source": [
    "for name in ['train']:\n",
    "    if name == 'test':\n",
    "        data = pd.read_pickle('../data/test_data2_p2.dataset')\n",
    "    elif name == 'train':\n",
    "        data = pd.read_pickle('../data/train_data2_005.dataset')\n",
    "    elif name == 'valid':\n",
    "        data = pd.read_pickle('../data/valid_data2_005.dataset')\n",
    "\n",
    "    session = data['session'].tolist()\n",
    "    locale = data['locale'].tolist()\n",
    "    locale2ids = pickle.load(open('../data/local2ids.pkl', 'rb'))\n",
    "\n",
    "    recall_items = torch.tensor(locale2ids[locale[0]]).cuda()\n",
    "    recall2 = []\n",
    "    recall2_logits = []\n",
    "    for i in tqdm(range(len(session))):\n",
    "        if i !=0 and locale[i] != locale[i-1]:\n",
    "            recall_items = torch.tensor(locale2ids[locale[i]]).cuda()\n",
    "        row = session[i]\n",
    "        if name != 'test':\n",
    "            label = row[-1]\n",
    "            row = row[:-1]\n",
    "        row = [0,0,0,0,0] + list(dict.fromkeys(row[::-1]))[::-1]\n",
    "        input_ids = torch.tensor([row]).cuda()\n",
    "        with torch.no_grad():\n",
    "            with autocast():\n",
    "                pred = model(input_ids, recall_items)[0]\n",
    "        idx = pred.topk(500).indices\n",
    "        pred_items_ids = recall_items[idx.cpu().numpy()].tolist()\n",
    "        logits = pred[idx].tolist()\n",
    "        recall2.append(pred_items_ids)\n",
    "        recall2_logits.append(logits)\n",
    "    recall2_data = pd.DataFrame({'next_item_prediction':recall2,'nn_logits':recall2_logits})\n",
    "    recall2_data.to_pickle('../data/recall2_'+name+'2_200_p2.dataset')"
   ]
  },
  {
   "attachments": {},
   "cell_type": "markdown",
   "id": "4688fa60",
   "metadata": {},
   "source": [
    "# rule recall + mlp recall"
   ]
  },
  {
   "cell_type": "code",
   "execution_count": 17,
   "id": "9193b944-e306-4930-9128-6545c53e8110",
   "metadata": {},
   "outputs": [
    {
     "name": "stderr",
     "output_type": "stream",
     "text": [
      "100%|██████████| 34690/34690 [01:07<00:00, 516.80it/s]\n",
      "100%|██████████| 34690/34690 [03:26<00:00, 167.59it/s]\n"
     ]
    }
   ],
   "source": [
    "for name in ['test']:\n",
    "    if name == 'test':\n",
    "        data = pd.read_pickle('../data/test_data2_p2.dataset')\n",
    "        recall_data = pd.read_pickle('../data/recall1_test2_200_p2.dataset')\n",
    "    elif name == 'train':\n",
    "        data = pd.read_pickle('../data/train_data2_005.dataset')\n",
    "        recall_data = pd.read_pickle('../data/recall1_train2_200_p2.dataset')\n",
    "    elif name == 'valid':\n",
    "        data = pd.read_pickle('../data/valid_data2_005.dataset')\n",
    "        recall_data = pd.read_pickle('../data/recall1_valid2_200_p2.dataset')\n",
    "    session = data['session'].tolist()\n",
    "    locale = data['locale'].tolist()\n",
    "    recall1 = recall_data['next_item_prediction']\n",
    "    locale2ids = pickle.load(open('../data/local2ids.pkl', 'rb'))\n",
    "    \n",
    "    recall1_logits = []\n",
    "    for i in tqdm(range(len(session))):\n",
    "        recall_items = torch.tensor(recall1[i]).cuda()\n",
    "        if recall_items.shape[0] == 0:\n",
    "            recall1_logits.append([])\n",
    "            continue\n",
    "        row = session[i]\n",
    "        if name != 'test':\n",
    "            label = row[-1]\n",
    "            row = row[:-1]\n",
    "        row = [0,0,0,0,0] + list(dict.fromkeys(row[::-1]))[::-1]\n",
    "        input_ids = torch.tensor([row]).cuda()\n",
    "        with torch.no_grad():\n",
    "            with autocast():\n",
    "                pred = model(input_ids, recall_items)[0].tolist()\n",
    "        recall1_logits.append(pred)\n",
    "        \n",
    "    recall2_data = pd.read_pickle('../data/recall2_'+name+'2_200_p2.dataset')\n",
    "    recall2 = recall2_data['next_item_prediction'].tolist()\n",
    "    recall2_logits = recall2_data['nn_logits'].tolist()\n",
    "    real_recall = []\n",
    "    real_logits = []\n",
    "    rank = []\n",
    "    for i in tqdm(range(len(recall2))):\n",
    "        recall_temp = recall1[i][:200]\n",
    "        logits_temp = recall1_logits[i][:200]\n",
    "        rank_temp = list(range(len(logits_temp)))\n",
    "        row = session[i]\n",
    "        if name != 'test':\n",
    "            row = row[:-1]\n",
    "        for j in range(len(recall2[i])):\n",
    "            if len(rank_temp)==250:\n",
    "                break\n",
    "            if recall2[i][j] in recall_temp:\n",
    "                continue\n",
    "            if recall2[i][j] in row:\n",
    "                continue\n",
    "            recall_temp.append(recall2[i][j])\n",
    "            logits_temp.append(recall2_logits[i][j])\n",
    "            if recall2[i][j] in recall1[i]:\n",
    "                rank_temp.append(recall1[i].index(recall2[i][j]))\n",
    "            else:\n",
    "                rank_temp.append(-1)\n",
    "        real_recall.append(recall_temp)\n",
    "        real_logits.append(logits_temp)\n",
    "        rank.append(rank_temp)\n",
    "    df = pd.DataFrame({'next_item_prediction':real_recall,'nn_logits':real_logits,'rank':rank})\n",
    "    df.to_pickle('../xgb-task2/recall_'+name+'2_250_with_nn_p2.dataset')"
   ]
  },
  {
   "attachments": {},
   "cell_type": "markdown",
   "id": "aaa9cd5b-22ae-487f-8cc4-0af8459ba059",
   "metadata": {
    "tags": []
   },
   "source": [
    "# only updata nn logits"
   ]
  },
  {
   "cell_type": "code",
   "execution_count": null,
   "id": "23f83227-6ed5-4805-bff1-860a91b26996",
   "metadata": {},
   "outputs": [],
   "source": [
    "model = WeightSeq().cuda()\n",
    "model.load_state_dict(torch.load('ckpt/task1-weight_embd2'))\n",
    "model.eval()"
   ]
  },
  {
   "cell_type": "code",
   "execution_count": null,
   "id": "a74f6140-1f2f-4ba0-8610-57dba6c79ac6",
   "metadata": {},
   "outputs": [],
   "source": [
    "name = ['train','test','valid'][2]\n",
    "if name == 'test':\n",
    "    data = pd.read_pickle('../data/test_data_p2.dataset')\n",
    "    recall_data = pd.read_pickle('../xgb-task2/recall_'+name+'2_250_with_nn_p2.dataset')\n",
    "elif name == 'train':\n",
    "    data = pd.read_pickle('../data/train_data_005.dataset')\n",
    "    recall_data = pd.read_pickle('../xgb-task2/recall_'+name+'2_250_with_nn_p2.dataset')\n",
    "elif name == 'valid':\n",
    "    data = pd.read_pickle('../data/valid_data_005.dataset')\n",
    "    recall_data = pd.read_pickle('../xgb-task2/recall_'+name+'2_250_with_nn_p2.dataset')\n",
    "session = data['session'].tolist()\n",
    "locale = data['locale'].tolist()\n",
    "recall1 = recall_data['next_item_prediction']\n",
    "locale2ids = pickle.load(open('../data/local2ids.pkl', 'rb'))"
   ]
  },
  {
   "cell_type": "code",
   "execution_count": 11,
   "id": "0ea5a977-5511-4fb6-8aab-270a28813e5f",
   "metadata": {},
   "outputs": [
    {
     "name": "stderr",
     "output_type": "stream",
     "text": [
      "100%|██████████| 1668/1668 [00:03<00:00, 534.36it/s]\n"
     ]
    }
   ],
   "source": [
    "recall1_logits = []\n",
    "for i in tqdm(range(len(session))):\n",
    "    recall_items = torch.tensor(recall1[i]).cuda()\n",
    "    if recall_items.shape[0] == 0:\n",
    "        recall1_logits.append([])\n",
    "        continue\n",
    "    row = session[i]\n",
    "    if name != 'test':\n",
    "        label = row[-1]\n",
    "        row = row[:-1]\n",
    "    row = [0,0,0,0,0] + list(dict.fromkeys(row[::-1]))[::-1]\n",
    "    input_ids = torch.tensor([row]).cuda()\n",
    "    with torch.no_grad():\n",
    "        with autocast():\n",
    "            pred = model(input_ids, recall_items)[0].tolist()\n",
    "    recall1_logits.append(pred)"
   ]
  },
  {
   "cell_type": "code",
   "execution_count": null,
   "id": "0ac16227-97f7-41db-8ca6-3648c0394add",
   "metadata": {},
   "outputs": [],
   "source": [
    "df = pd.DataFrame({'nn_logits':recall1_logits})\n",
    "df.to_pickle('../xgb-task2/logits_'+name+'2_p2.dataset')\n",
    "df"
   ]
  }
 ],
 "metadata": {
  "kernelspec": {
   "display_name": "Python 3 (ipykernel)",
   "language": "python",
   "name": "python3"
  },
  "language_info": {
   "codemirror_mode": {
    "name": "ipython",
    "version": 3
   },
   "file_extension": ".py",
   "mimetype": "text/x-python",
   "name": "python",
   "nbconvert_exporter": "python",
   "pygments_lexer": "ipython3",
   "version": "3.7.16"
  }
 },
 "nbformat": 4,
 "nbformat_minor": 5
}
