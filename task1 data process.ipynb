{
 "cells": [
  {
   "cell_type": "code",
   "execution_count": 1,
   "id": "1e1da923-831d-4bb5-8fd9-a34f47a90a72",
   "metadata": {},
   "outputs": [],
   "source": [
    "import pandas as pd\n",
    "import pickle\n",
    "train_sessions = pd.read_csv('./data/sessions_train.csv')\n",
    "pro_df = pd.read_csv('./data/products_train.csv')"
   ]
  },
  {
   "cell_type": "code",
   "execution_count": null,
   "id": "9b2f6a5d-a3cc-4f81-9349-1f99a5b4d901",
   "metadata": {},
   "outputs": [],
   "source": [
    "asin2id = {}\n",
    "id2asin = {}\n",
    "number = 1\n",
    "for asin_id in pro_df['id']:\n",
    "    if asin_id in asin2id.keys():\n",
    "        continue\n",
    "    asin2id[asin_id]=number\n",
    "    id2asin[number] = asin_id\n",
    "    number += 1\n",
    "pickle.dump(id2asin,open('./data/product_id2asin.pkl', 'wb'))\n",
    "pickle.dump(asin2id,open('./data/product_asin2id.pkl', 'wb'))"
   ]
  },
  {
   "cell_type": "code",
   "execution_count": null,
   "id": "13fb34e3-47ba-4c8e-b0c3-13dfca1e8680",
   "metadata": {},
   "outputs": [],
   "source": [
    "#map id form string to number\n",
    "locale2ids = pickle.load(open('./data/local2ids.pkl', 'rb'))\n",
    "product_id2asin = pickle.load(open('./data/product_id2asin.pkl', 'rb'))\n",
    "product_asin2id = pickle.load(open('./data/product_asin2id.pkl', 'rb'))"
   ]
  },
  {
   "cell_type": "code",
   "execution_count": 20,
   "id": "c871e969-60be-4e8b-8958-638718214511",
   "metadata": {},
   "outputs": [],
   "source": [
    "session = train_sessions['prev_items'].tolist()\n",
    "label = train_sessions['next_item'].tolist()\n",
    "locale = train_sessions['locale'].tolist()"
   ]
  },
  {
   "cell_type": "code",
   "execution_count": 6,
   "id": "85f3cc16-4e88-4fac-9133-c4f36c862d62",
   "metadata": {},
   "outputs": [
    {
     "data": {
      "text/plain": [
       "3272716"
      ]
     },
     "execution_count": 6,
     "metadata": {},
     "output_type": "execute_result"
    }
   ],
   "source": [
    "new_session = []\n",
    "new_locale = []\n",
    "for i in range(len(session)):\n",
    "    if locale[i] not in ['UK','JP','DE']:\n",
    "        continue\n",
    "    items = session[i][1:-1].split()\n",
    "    items = list(map(lambda x: x[1:-1], items))\n",
    "    temp = items+[label[i]]\n",
    "    new_locale.append(locale[i])\n",
    "    prev_items = list(map(lambda x: product_asin2id[x], temp))\n",
    "    new_session.append(prev_items)\n",
    "data_df = pd.DataFrame({'session': new_session, 'locale': new_locale})\n",
    "len(new_session)"
   ]
  },
  {
   "attachments": {},
   "cell_type": "markdown",
   "id": "3fd92ad0",
   "metadata": {},
   "source": [
    "## split train data and valid data"
   ]
  },
  {
   "cell_type": "code",
   "execution_count": 8,
   "id": "54198caf-0fa0-448b-9c0f-7fea20a3cfa6",
   "metadata": {},
   "outputs": [],
   "source": [
    "from sklearn.model_selection import train_test_split\n",
    "data_df.to_pickle('./data/session_data.dataset')\n",
    "train_data, valid_data = train_test_split(data_df,test_size=0.005)\n",
    "train_data.to_pickle('./data/train_data_005.dataset')\n",
    "valid_data.to_pickle('./data/valid_data_005.dataset')"
   ]
  },
  {
   "attachments": {},
   "cell_type": "markdown",
   "id": "e546a361",
   "metadata": {},
   "source": [
    "## process test data"
   ]
  },
  {
   "cell_type": "code",
   "execution_count": 2,
   "id": "289aecce-2fee-4d01-b855-54110dd8da95",
   "metadata": {},
   "outputs": [],
   "source": [
    "test_sessions = pd.read_csv('./data/sessions_test_task1_p2.csv')\n",
    "#test_sessions = pd.read_csv('./data/sessions_test_task1_p1.csv')\n",
    "#test_sessions = pd.concat([pd.read_csv('./data/sessions_test_task3_p1.csv'),pd.read_csv('./data/sessions_test_task3_p2.csv')]).reset_index(drop=True)"
   ]
  },
  {
   "cell_type": "code",
   "execution_count": 3,
   "id": "e965918c-cfcf-440a-b2f3-2d630432a7df",
   "metadata": {},
   "outputs": [],
   "source": [
    "session = test_sessions['prev_items'].tolist()\n",
    "locale = test_sessions['locale'].tolist()"
   ]
  },
  {
   "cell_type": "code",
   "execution_count": 5,
   "id": "94a7a481-6d87-4d8c-88fb-b97ce08ca120",
   "metadata": {},
   "outputs": [
    {
     "data": {
      "text/plain": [
       "56422"
      ]
     },
     "execution_count": 5,
     "metadata": {},
     "output_type": "execute_result"
    }
   ],
   "source": [
    "new_session = []\n",
    "new_locale = []\n",
    "for i in range(len(session)):\n",
    "    if locale[i] not in ['JP','UK','DE']:\n",
    "        continue\n",
    "    items = session[i][1:-1].split()\n",
    "    items = list(map(lambda x: x[1:-1], items))\n",
    "    temp = items\n",
    "    new_locale.append(locale[i])\n",
    "    prev_items = list(map(lambda x: product_asin2id[x], temp))\n",
    "    new_session.append(prev_items)\n",
    "data_df = pd.DataFrame({'session': new_session, 'locale': new_locale})\n",
    "data_df.to_pickle('./data/test_data1_p2.dataset')\n",
    "#data_df.to_pickle('./data/test_data1_p1.dataset')\n",
    "#data_df.to_pickle('./data/test_data1_more.dataset')\n",
    "len(new_session)"
   ]
  }
 ],
 "metadata": {
  "kernelspec": {
   "display_name": "Python 3 (ipykernel)",
   "language": "python",
   "name": "python3"
  },
  "language_info": {
   "codemirror_mode": {
    "name": "ipython",
    "version": 3
   },
   "file_extension": ".py",
   "mimetype": "text/x-python",
   "name": "python",
   "nbconvert_exporter": "python",
   "pygments_lexer": "ipython3",
   "version": "3.7.13"
  }
 },
 "nbformat": 4,
 "nbformat_minor": 5
}
